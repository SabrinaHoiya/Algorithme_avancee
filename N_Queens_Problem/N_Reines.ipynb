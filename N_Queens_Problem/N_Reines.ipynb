{
 "cells": [
  {
   "cell_type": "markdown",
   "metadata": {},
   "source": [
    "# <center style=\"color:#DA1847\" >-- Projet-Algorithmique avancée --</center>\n",
    "# <center style=\"color:#DA1847\" >-- Thème : Récursivité --</center>\n",
    "## <p style=\"color:#1CBCC9\" >Réalisé par:Sabrine Hoiya 2DNI2  </p>\n",
    "***"
   ]
  },
  {
   "cell_type": "markdown",
   "metadata": {},
   "source": [
    "## <p style=\"color:#41A420\">Spécifications</p>\n",
    "***"
   ]
  },
  {
   "cell_type": "markdown",
   "metadata": {},
   "source": [
    "On considère un échiquier carré de taille N x N.   On dispose de N reines.  Le problème consiste à placer les N reines de façon à ce que deux reines quelconques ne s’attaquent pas mutuellement. Rappelons qu’une reine attaque sur les lignes, colonnes et les diagonales. On utilisera un tableau dynamique à deux dimensions d’entiers. On utilisera les valeurs suivantes :\n",
    "\n",
    "•0 : pour indiquer une case libre.\n",
    "\n",
    "•1 : pour indiquer une case interdite.\n",
    "\n",
    "•y : pour indiquer une case occupée par la reine numéro y (y = 1..n)\n",
    "\n",
    "Le principe de base de l’algorithme pour placer une reine est le suivant : lorsqu’on place une reine dans une case libre (contenant 0), on change sa valeur vers le numéro de reine et on interdit toutes les cases se trouvant sur la même ligne, même colonne et les diagonales (en changeant leurs valeurs respectives vers1).\n"
   ]
  },
  {
   "cell_type": "markdown",
   "metadata": {},
   "source": [
    "## <p style=\"color:#41A420\">Travail Demandé</p>\n",
    "************"
   ]
  },
  {
   "cell_type": "code",
   "execution_count": 1,
   "metadata": {},
   "outputs": [
    {
     "name": "stdout",
     "output_type": "stream",
     "text": [
      "SVP Enter N >=4\n",
      "4\n",
      "[1, '♛', 1, 1]\n",
      "[1, 1, 1, '♛']\n",
      "['♛', 1, 1, 1]\n",
      "[1, 1, '♛', 1]\n"
     ]
    }
   ],
   "source": [
    "\n",
    "#entrer N la taille de l'échiqier et le nombre des reines  \n",
    "\n",
    "try:\n",
    "    print (\"SVP Enter N >=4\")\n",
    "    N = int(input())\n",
    "    \n",
    "except ValueError:\n",
    "    print(\"Veuillez vérifier votre saisie\")\n",
    "\n",
    "# E presente l'echiquier de taille NxN  initialmenet tous les cases contenant la valeur 0.\n",
    "E = [[0]*N for _ in range(N)]\n",
    "\n",
    "def case_attaque(i, j):\n",
    "    #verification s'ilya une reine dans les lignes ou les colonnes.\n",
    "    #\"♛\"=Symbole d\"une reine . \n",
    "    for k in range(0,N):\n",
    "        if E[i][k]==\"♛\" or E[k][j]==\"♛\":\n",
    "            return True\n",
    "        E[i][k]=1\n",
    "    #verification s'ilya une reine dans les diagonales.\n",
    "    for k in range(0,N):\n",
    "        for l in range(0,N):\n",
    "            if (k+l==i+j) or (k-l==i-j):\n",
    "                if E[k][l]==\"♛\":\n",
    "                    return True\n",
    "                \n",
    "    return False\n",
    "\n",
    "def placer_tous_lesreines(n):\n",
    "    \n",
    "    if n==0:          #S'il n'y a plus de reine, cela signifie que toutes les reines sont placées et que nous avons une solution.\n",
    "        return True\n",
    "    for i in range(0,N):\n",
    "        for j in range(0,N):\n",
    "            \n",
    "            #verification si on peut placer une reine ou non \n",
    "            #NB:une reine ne peut pas etre placer si la case est attaquer ou bien la case et occupé par une autre reine.\n",
    "            if (not(case_attaque(i,j))) and (E[i][j]!=\"♛\"):\n",
    "                E[i][j] = \"♛\"\n",
    "                \n",
    "                #si nous pouvons mettre la prochaine reine avec cet arrangement ou non\n",
    "                if placer_tous_lesreines(n-1)==True:\n",
    "                    return True\n",
    "                E[i][j] =0\n",
    "\n",
    "    return False\n",
    "\n",
    "placer_tous_lesreines(N)\n",
    "for i in E:\n",
    "    print(i)\n"
   ]
  },
  {
   "cell_type": "markdown",
   "metadata": {},
   "source": []
  },
  {
   "cell_type": "code",
   "execution_count": null,
   "metadata": {},
   "outputs": [],
   "source": []
  },
  {
   "cell_type": "code",
   "execution_count": null,
   "metadata": {},
   "outputs": [],
   "source": []
  },
  {
   "cell_type": "code",
   "execution_count": null,
   "metadata": {},
   "outputs": [],
   "source": []
  },
  {
   "cell_type": "code",
   "execution_count": 20,
   "metadata": {},
   "outputs": [],
   "source": []
  },
  {
   "cell_type": "code",
   "execution_count": null,
   "metadata": {},
   "outputs": [],
   "source": []
  },
  {
   "cell_type": "code",
   "execution_count": 21,
   "metadata": {},
   "outputs": [],
   "source": []
  },
  {
   "cell_type": "code",
   "execution_count": 22,
   "metadata": {},
   "outputs": [],
   "source": []
  },
  {
   "cell_type": "code",
   "execution_count": null,
   "metadata": {},
   "outputs": [],
   "source": []
  }
 ],
 "metadata": {
  "kernelspec": {
   "display_name": "Python 3",
   "language": "python",
   "name": "python3"
  },
  "language_info": {
   "codemirror_mode": {
    "name": "ipython",
    "version": 3
   },
   "file_extension": ".py",
   "mimetype": "text/x-python",
   "name": "python",
   "nbconvert_exporter": "python",
   "pygments_lexer": "ipython3",
   "version": "3.7.6"
  }
 },
 "nbformat": 4,
 "nbformat_minor": 4
}
